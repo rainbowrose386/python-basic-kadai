{
  "nbformat": 4,
  "nbformat_minor": 0,
  "metadata": {
    "colab": {
      "provenance": []
    },
    "kernelspec": {
      "name": "python3",
      "display_name": "Python 3"
    },
    "language_info": {
      "name": "python"
    }
  },
  "cells": [
    {
      "cell_type": "code",
      "execution_count": null,
      "metadata": {
        "colab": {
          "base_uri": "https://localhost:8080/"
        },
        "id": "W1McHVItl-Z-",
        "outputId": "a032b6ad-a8a1-46df-eef3-52710436f22e"
      },
      "outputs": [
        {
          "output_type": "stream",
          "name": "stdout",
          "text": [
            "田中　adult\n",
            "佐藤　not adult\n",
            "マイケル　adult\n"
          ]
        }
      ],
      "source": [
        "class Human:\n",
        "  def __init__(self,name,age):\n",
        "    self.name = name\n",
        "    self.age = age\n",
        "\n",
        "  def check_adult(self):\n",
        "    if self.age >= 20:\n",
        "      print(f\"{self.name}　adult\")\n",
        "    else:\n",
        "      print(f\"{self.name}　not adult\")\n",
        "\n",
        "humans = [ Human(\"田中\",20), Human(\"佐藤\",12), Human(\"マイケル\",34)]\n",
        "\n",
        "for human in humans:\n",
        "    human.check_adult()\n"
      ]
    }
  ]
}