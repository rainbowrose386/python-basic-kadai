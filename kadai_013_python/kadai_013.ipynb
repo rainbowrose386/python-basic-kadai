{
  "nbformat": 4,
  "nbformat_minor": 0,
  "metadata": {
    "colab": {
      "provenance": []
    },
    "kernelspec": {
      "name": "python3",
      "display_name": "Python 3"
    },
    "language_info": {
      "name": "python"
    }
  },
  "cells": [
    {
      "cell_type": "code",
      "execution_count": null,
      "metadata": {
        "colab": {
          "base_uri": "https://localhost:8080/"
        },
        "id": "VIV_7TUEBfkD",
        "outputId": "03d92b19-a4b2-4b05-dfd2-f995ec8a69d6"
      },
      "outputs": [
        {
          "output_type": "stream",
          "name": "stdout",
          "text": [
            "330.0円です\n"
          ]
        }
      ],
      "source": [
        "\n",
        "def add_tax(price,tax):\n",
        "    price = price * (1+ tax/100)\n",
        "    return price\n",
        "\n",
        "price = 300\n",
        "tax = 10\n",
        "\n",
        "total_price = add_tax(price,tax)\n",
        "print(f\"{total_price}円です\")\n",
        "\n",
        "\n",
        "\n",
        "\n"
      ]
    },
    {
      "cell_type": "markdown",
      "source": [],
      "metadata": {
        "id": "DtScGZ3xWRhF"
      }
    }
  ]
}